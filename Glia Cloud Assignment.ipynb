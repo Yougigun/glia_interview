{
 "cells": [
  {
   "cell_type": "code",
   "execution_count": 1,
   "metadata": {},
   "outputs": [],
   "source": [
    "# Part 2: Python Skills (50%)\n",
    "# Quiz 2-1: word counts (10%)\n",
    "def ngram_probs(filename='raw_sentences.txt'):\n",
    "    fo = open(\"raw_sentences.txt\", \"r\")\n",
    "    i=0\n",
    "    BagofBigram={}\n",
    "    BagofTrigram={}\n",
    "    while True:\n",
    "        i+=1\n",
    "        line = fo.readline()\n",
    "        if line==\"\":\n",
    "            fo.close()\n",
    "            break\n",
    "        line = line.lower()\n",
    "        line = line.split()\n",
    "        for j in range(len(line)-2+1):\n",
    "            #Add bigram in bag\n",
    "            bigram=tuple(line[j:j+2])\n",
    "            if bigram not in BagofBigram:\n",
    "                BagofBigram[bigram]=1\n",
    "            else: BagofBigram[bigram]+=1  \n",
    "            \n",
    "            #Add trigram in bag\n",
    "            trigram=tuple(line[j:j+3])\n",
    "            if trigram not in BagofTrigram:\n",
    "                BagofTrigram[trigram]=1\n",
    "            else: BagofTrigram[trigram]+=1\n",
    "    \n",
    "    #count probs \n",
    "    NofB=.0\n",
    "    bigram_probs={}\n",
    "    for key in BagofBigram:\n",
    "        NofB+=BagofBigram[key]\n",
    "    for key in BagofBigram:\n",
    "        bigram_probs[key]=BagofBigram[key]/NofB\n",
    "    NofT=.0\n",
    "    trigram_probs={}\n",
    "    for key in BagofTrigram:\n",
    "        NofT+=BagofTrigram[key]\n",
    "    for key in BagofTrigram:\n",
    "        trigram_probs[key]=BagofTrigram[key]/NofT \n",
    "\n",
    "#########################debugblock#####################\n",
    "#     prob=0\n",
    "#     for key in bigram_probs:\n",
    "#         prob+=bigram_probs[key]\n",
    "#        \n",
    "#     print(prob)  \n",
    "#     print(i)\n",
    "#     print(NofB)\n",
    "#     print(NofT)\n",
    "#     print(len(BagofBigram))\n",
    "#     print(len(BagofTrigram))\n",
    "#     print(BagofBigram[(\"is\",'going')])\n",
    "#     print(bigram_probs[(\"is\",'going')])\n",
    "#     print(BagofTrigram[(\"is\",\"going\",\"to\")])\n",
    "#     print(trigram_probs[(\"is\",\"going\",\"to\")])\n",
    "#########################debugblock#####################\n",
    "\n",
    "    bigram_probs, trigram_probs=bigram_probs,trigram_probs\n",
    "    return bigram_probs, trigram_probs"
   ]
  },
  {
   "cell_type": "code",
   "execution_count": 2,
   "metadata": {},
   "outputs": [
    {
     "name": "stdout",
     "output_type": "stream",
     "text": [
      "0.003757518825472341\n"
     ]
    }
   ],
   "source": [
    "cnt2, cnt3=ngram_probs()\n",
    "print(cnt2[(\"we\",\"are\")])"
   ]
  },
  {
   "cell_type": "code",
   "execution_count": 3,
   "metadata": {},
   "outputs": [],
   "source": [
    "# Quiz 2-2: next word probabilities (10%)\n",
    "import math\n",
    "def prob3(bigram, cnt2=cnt2, cnt3=cnt3):\n",
    "    logof2=math.log(cnt2[bigram])\n",
    "    prob={}\n",
    "    for key in cnt3:\n",
    "        if key[0:2]==bigram:\n",
    "            prob[key[2]]=math.log(cnt3[key])-logof2\n",
    "\n",
    "    return prob"
   ]
  },
  {
   "cell_type": "code",
   "execution_count": 9,
   "metadata": {},
   "outputs": [
    {
     "data": {
      "text/plain": [
       "-670.1909408442019"
      ]
     },
     "execution_count": 9,
     "metadata": {},
     "output_type": "execute_result"
    }
   ],
   "source": [
    "p=prob3((\"we\",\"are\"))\n",
    "p[\"family\"]"
   ]
  },
  {
   "cell_type": "code",
   "execution_count": 5,
   "metadata": {},
   "outputs": [],
   "source": [
    "# Quiz 2-3: predicting the next word (10%)\n",
    "def predict_max(starting, cnt2=cnt2, cnt3=cnt3):\n",
    "    list_of_words=[]\n",
    "    list_of_words=[]+list(starting)\n",
    "    while True:\n",
    "#     for i in range(1):##\n",
    "        p=prob3(starting)\n",
    "        pmax=max(list(p.values()))\n",
    "        nextword=\"\"\n",
    "        for key in p:\n",
    "            #假設最大likelihood對應的word只有一個\n",
    "            if p[key]==pmax:\n",
    "                nextword=key\n",
    "#                 print(type(nextword))##\n",
    "                list_of_words+=[nextword]\n",
    "#                 print(list_of_words)##\n",
    "        if list_of_words[-1]==\".\" or len(list_of_words)>=15:break\n",
    "        starting=tuple(list_of_words[-2:])\n",
    "    return list_of_words"
   ]
  },
  {
   "cell_type": "code",
   "execution_count": 7,
   "metadata": {},
   "outputs": [
    {
     "name": "stdout",
     "output_type": "stream",
     "text": [
      "we are going to do it .\n"
     ]
    }
   ],
   "source": [
    "sent = predict_max(('we', 'are'))\n",
    "assert sent[-1] == '.' or len(sent) <= 15\n",
    "print(' '.join(sent))"
   ]
  },
  {
   "cell_type": "code",
   "execution_count": null,
   "metadata": {},
   "outputs": [],
   "source": [
    "# Quiz 2-4: beam search (20%)\n",
    "def predict_beam(bigram, beam_size=4, sent_length=10, cnt2=cnt2, cnt3=cnt3):\n",
    "    # 不考慮通常句子短比句子長機率來的大，故不做平均優化\n",
    "    list_of_sentence=[]\n",
    "    sentence={}\n",
    "    p=prob3(bigram)\n",
    "    firstfour_p=list(p.values()).sort()[:beamsize]\n",
    "    for key in p:\n",
    "        if p[key] in firstfour_p:sentence[p[key]]=key           \n",
    "    while True:\n",
    "        if len(list_of_sentence)>=4:break\n",
    "        for props in sentence:\n",
    "            bigram=sentence[props][-2:]\n",
    "            p=prob3\n",
    "###########unfinish#################            \n",
    "    \n",
    "    return list_of_sentence\n",
    "##未完成，故把想法寫出，每一次找nextword時，\n",
    "##要把「前幾次的log probability與最新的logprob加總起來」且找出的前n(beam_size)個機率最大值\n",
    "##重複上述步驟直到句子結尾為句點或長度達10就能算找到一個句子\n",
    "##重複直到找到n個"
   ]
  },
  {
   "cell_type": "code",
   "execution_count": null,
   "metadata": {},
   "outputs": [],
   "source": [
    "    for sent in predict_beam(('we', 'are')):\n",
    "    assert sent[-1] == '.' or len(sent) < 10\n",
    "    print(' '.join(sent))"
   ]
  }
 ],
 "metadata": {
  "kernelspec": {
   "display_name": "Python 3",
   "language": "python",
   "name": "python3"
  },
  "language_info": {
   "codemirror_mode": {
    "name": "ipython",
    "version": 3
   },
   "file_extension": ".py",
   "mimetype": "text/x-python",
   "name": "python",
   "nbconvert_exporter": "python",
   "pygments_lexer": "ipython3",
   "version": "3.6.4"
  }
 },
 "nbformat": 4,
 "nbformat_minor": 2
}
